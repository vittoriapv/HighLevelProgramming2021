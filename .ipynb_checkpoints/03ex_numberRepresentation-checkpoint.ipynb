{
 "cells": [
  {
   "cell_type": "markdown",
   "metadata": {},
   "source": [
    "1\\. Write a function that converts numbers among the bin, dec, and hex representations (bin<->dec<->hex)"
   ]
  },
  {
   "cell_type": "code",
   "execution_count": 15,
   "metadata": {},
   "outputs": [
    {
     "name": "stdout",
     "output_type": "stream",
     "text": [
      "Binary representation of 76 : 0b1001100 \n",
      "Hexadecimal representation of 76  : 0x4c\n",
      "76\n",
      "Decimal representation of 0b11011101 : 221 \n",
      "Hexadecimal representation of 0b11011101  : 0xdd\n",
      "221\n",
      "Binary representation of 0x16 : 0b10110 \n",
      "Decimal representation of 0x16  : 22\n",
      "22\n"
     ]
    }
   ],
   "source": [
    "#exercise 1\n",
    "\n",
    "x = 76\n",
    "representationx = 'dec' #bin, dec, hex\n",
    "\n",
    "y = 0b11011101\n",
    "representationy = 'bin' #bin, dec, hex\n",
    "\n",
    "z = 0x16\n",
    "representationz = 'hex' #bin, dec, hex\n",
    "\n",
    "def conversion(x, representation):\n",
    "    if representation=='bin':\n",
    "        print('Decimal representation of', bin(x) ,':', x, '\\nHexadecimal representation of', bin(x) ,' :', hex(x))\n",
    "    elif representation=='dec':\n",
    "        print('Binary representation of',x ,':', bin(x), '\\nHexadecimal representation of',x ,' :', hex(x))\n",
    "    elif representation=='hex':\n",
    "        print('Binary representation of',hex(x) ,':', bin(x), '\\nDecimal representation of',hex(x) ,' :', int(x))\n",
    "    return(x)\n",
    "        \n",
    "print(conversion(x,representationx))\n",
    "print(conversion(y,representationy))\n",
    "print(conversion(z,representationz))"
   ]
  },
  {
   "cell_type": "markdown",
   "metadata": {},
   "source": [
    "2\\. Write a function that converts a 32 bit word into a single precision floating point (i.e. interprets the various bits as sign, mantissa and exponent) and check its validity."
   ]
  },
  {
   "cell_type": "code",
   "execution_count": 2,
   "metadata": {},
   "outputs": [
    {
     "name": "stdout",
     "output_type": "stream",
     "text": [
      "Conversion of 11000001000001101111000000110011 (single precision floating point):\n",
      "-8.433642387390137\n"
     ]
    }
   ],
   "source": [
    "#exercise 2\n",
    "\n",
    "word= '11000001000001101111000000110011'\n",
    "\n",
    "def sfp_conversion(word):\n",
    "    sign=int(word[0])\n",
    "    exp=int(word[1:9],2)\n",
    "    y,mantissa=1,1\n",
    "    for i in word[9:32]:\n",
    "        i=int(i)\n",
    "        mantissa += pow(2,-y)*i\n",
    "        y+=1\n",
    "    x_float= pow(-1, sign)*pow(2,(exp-127))*mantissa\n",
    "    return(x_float)\n",
    "\n",
    "print('Conversion of', word, '(single precision floating point):')\n",
    "print(sfp_conversion(word))    "
   ]
  },
  {
   "cell_type": "markdown",
   "metadata": {},
   "source": [
    "3\\. Write a program to determine the underflow and overflow limits (within a factor of 2) for python on your computer. \n",
    "\n",
    "**Tip**: define two variables initialized to 1 and halve/double them for a sufficient amount of times to exceed the under/over-flow limits  "
   ]
  },
  {
   "cell_type": "code",
   "execution_count": 6,
   "metadata": {},
   "outputs": [
    {
     "name": "stdout",
     "output_type": "stream",
     "text": [
      "The underflow limit is: 5e-324\n",
      "The overflow limit is: 8.98846567431158e+307\n"
     ]
    }
   ],
   "source": [
    "#exercise 3\n",
    "import math as m\n",
    "under=1.\n",
    "over=1.\n",
    "\n",
    "while True:\n",
    "    x=under/2\n",
    "    if x!=0:\n",
    "        under/=2\n",
    "        continue\n",
    "    else:\n",
    "        print('The underflow limit is:', under)\n",
    "        break\n",
    "        \n",
    "while True:\n",
    "    x=over*2 \n",
    "    if x!=float(m.inf):\n",
    "        over*=2\n",
    "        continue\n",
    "    else:\n",
    "        print('The overflow limit is:', over)\n",
    "        break\n"
   ]
  },
  {
   "cell_type": "markdown",
   "metadata": {},
   "source": [
    "4\\. Write a program to determine the machine precision\n",
    "\n",
    "**Tip**: define a new variable by adding an increasingly smaller value (in the same way as the previous problem) and check when the addition starts to have no effect on the number"
   ]
  },
  {
   "cell_type": "code",
   "execution_count": 2,
   "metadata": {},
   "outputs": [
    {
     "name": "stdout",
     "output_type": "stream",
     "text": [
      "Machine precision is: 2.220446049250313e-16\n"
     ]
    }
   ],
   "source": [
    "#exercise 4\n",
    "\n",
    "x=1.\n",
    "y=1.\n",
    "while True:\n",
    "    if (x+y)!=1:\n",
    "        y/=2\n",
    "        continue\n",
    "    else:\n",
    "        print('Machine precision is:', 2*y)\n",
    "        break        "
   ]
  },
  {
   "cell_type": "markdown",
   "metadata": {},
   "source": [
    "5\\. Write a function that takes in input three parameters $a$, $b$ and $c$ and prints out the two solutions to the quadratic equation $ax^2+bx+c=0$ using the standard formula:\n",
    "$$\n",
    "x=\\frac{-b\\pm\\sqrt{b^2-4ac}}{2a}\n",
    "$$\n",
    "\n",
    "(a) use the program to compute the solution for $a=0.001$, $b=1000$ and $c=0.001$\n",
    "\n",
    "(b) re-express the standard solution formula by multiplying the numerator and the denominator by $-b\\mp\\sqrt{b^2-4ac}$ and again find the solution for $a=0.001$, $b=1000$ and $c=0.001$. How does it compare with what has been previously obtained, and why?\n",
    "\n",
    "(c) write a function that computes the roots of a quadratic equation accurately in all cases"
   ]
  },
  {
   "cell_type": "code",
   "execution_count": 5,
   "metadata": {
    "scrolled": true
   },
   "outputs": [
    {
     "name": "stdout",
     "output_type": "stream",
     "text": [
      "Quadratic equation considered is:\n"
     ]
    },
    {
     "data": {
      "text/latex": [
       "$\\displaystyle 0.001x^2+1000x+0.001$"
      ],
      "text/plain": [
       "<IPython.core.display.Math object>"
      ]
     },
     "metadata": {},
     "output_type": "display_data"
    },
    {
     "name": "stdout",
     "output_type": "stream",
     "text": [
      "[Method A] Solutions are:  (-9.999894245993346e-07, -999999.999999)\n",
      "[Method B] Solutions are:  (-1.000000000001e-06, -1000010.5755125057)\n",
      "[Method C] Solutions are:  (-1.000000000001e-06, -999999.999999)\n"
     ]
    }
   ],
   "source": [
    "#exercise 5\n",
    "#A\n",
    "from IPython.display import display, Math\n",
    "\n",
    "a,b,c=0.001,1000,0.001\n",
    "print('Quadratic equation considered is:')\n",
    "display(Math(r'{}x^2+{}x+{}'.format(a,b,c)))\n",
    "\n",
    "def quadratic_solA(a,b,c): \n",
    "    x1= (-b+m.sqrt(b**2-4*a*c))/(2*a)\n",
    "    x2= (-b-m.sqrt(b**2-4*a*c))/(2*a)\n",
    "    return x1, x2\n",
    "print('[Method A] Solutions are: ', quadratic_solA(a,b,c))\n",
    "\n",
    "#B\n",
    "def quadratic_solB(a,b,c): \n",
    "    x1= (2*c)/(-b-m.sqrt(b**2-4*a*c))\n",
    "    x2= (2*c)/(-b+m.sqrt(b**2-4*a*c))\n",
    "    return x1, x2\n",
    "print('[Method B] Solutions are: ', quadratic_solB(a,b,c))\n",
    "\n",
    "#Results of method A and B don't coincide. The unexpected results might be dued to the substraction of 2 very close \n",
    "#numbers in value (x1 in method A and x2 in method B): since being b>>a,c it results that sqrt(b**2-4*a*c) is really \n",
    "#close to b itself.\n",
    "\n",
    "#C\n",
    "def quadratic_solC(a,b,c): \n",
    "    x1= (2*c)/(-b-m.sqrt(b**2-4*a*c))\n",
    "    x2= (-b-m.sqrt(b**2-4*a*c))/(2*a)\n",
    "    return x1, x2\n",
    "print('[Method C] Solutions are: ', quadratic_solC(a,b,c))"
   ]
  },
  {
   "cell_type": "markdown",
   "metadata": {},
   "source": [
    "6\\. Write a program that implements the function $f(x)=x(x−1)$\n",
    "\n",
    "(a) Calculate the derivative of the function at the point $x = 1$ using the derivative definition:\n",
    "\n",
    "$$\n",
    "\\frac{{\\rm d}f}{{\\rm d}x} = \\lim_{\\delta\\to0} \\frac{f(x+\\delta)-f(x)}{\\delta}\n",
    "$$\n",
    "\n",
    "with $\\delta = 10^{−2}$. Calculate the true value of the same derivative analytically and compare it with the answer your program gives. The two will not agree perfectly. Why?\n",
    "\n",
    "(b) Repeat the calculation for $\\delta = 10^{−4}, 10^{−6}, 10^{−8}, 10^{−10}, 10^{−12}$ and $10^{−14}$. How does the accuracy scales with $\\delta$?"
   ]
  },
  {
   "cell_type": "code",
   "execution_count": 50,
   "metadata": {},
   "outputs": [
    {
     "name": "stdout",
     "output_type": "stream",
     "text": [
      "The difference between the results obtained with the 2 methods is: 0.010000000000000897\n",
      "Computing derivatives considering distinct δ, the differences between the results obtained with the 2 methods are:\n",
      "δ = 0.0001 , difference is: 9.999999988985486e-05\n",
      "δ = 1e-06 , difference is: 9.99917733279787e-07\n",
      "δ = 1e-08 , difference is: 3.922528746258536e-09\n",
      "δ = 1e-10 , difference is: 8.284037100736441e-08\n",
      "δ = 1e-12 , difference is: 8.890058334132256e-05\n",
      "δ = 1e-14 , difference is: 0.0007992778373491216\n"
     ]
    }
   ],
   "source": [
    "#exercise 6\n",
    "#A\n",
    "def f(x):\n",
    "    return x*(x-1)\n",
    "\n",
    "x, delta=1, 1.e-2\n",
    "derivative_delta= (f(x+delta)-f(x))/delta\n",
    "\n",
    "def derivative_f(x):\n",
    "    return 2*x-1\n",
    "\n",
    "print('The difference between the results obtained with the 2 methods is:', abs(derivative_delta-derivative_f(x)))\n",
    "#The difference between the 2 results is dued to a catastrophic cancellation occuring when applaying the derivative\n",
    "#definition (subtracitng 2 values which are very close to one another, f(x) and f(x+delta)).\n",
    "\n",
    "#B\n",
    "print('Computing derivatives considering distinct \\u03B4, the differences between the results obtained with the 2 methods are:')\n",
    "for i in range(4,15,2):\n",
    "    delta=1*10**-i\n",
    "    print('\\u03B4 =', delta,', difference is:',abs((f(x+delta)-f(x))/delta - derivative_f(x)))\n",
    "\n",
    "#Accuracy initially decreases but tend to increase for values of delta too low"
   ]
  },
  {
   "cell_type": "markdown",
   "metadata": {},
   "source": [
    "7\\. Consider the integral of the semicircle of radius 1:\n",
    "$$\n",
    "I=\\int_{-1}^{1} \\sqrt(1-x^2) {\\rm d}x\n",
    "$$\n",
    "which is known to be $I=\\frac{\\pi}{2}=1.57079632679...$.\n",
    "\n",
    "Alternatively we can use the Riemann definition of the integral:\n",
    "$$\n",
    "I=\\lim_{N\\to\\infty} \\sum_{k=1}^{N} h y_k \n",
    "$$\n",
    "\n",
    "with $h=2/N$ the width of each of the $N$ slices the domain is divided into and where\n",
    "$y_k$ is the value of the function at the $k-$th slice.\n",
    "\n",
    "(a) Write a program to compute the integral with $N=100$. How does the result compare to the true value?\n",
    "\n",
    "(b) How much can $N$ be increased if the computation needs to be run in less than a second? What is the gain in running it for 1 minute? \n"
   ]
  },
  {
   "cell_type": "code",
   "execution_count": 4,
   "metadata": {},
   "outputs": [
    {
     "name": "stdout",
     "output_type": "stream",
     "text": [
      "Difference between true and exstimated value (N = 100) is: 0.001662071245647212\n",
      "\n",
      "\n",
      "Difference between true and exstimated value (running for less than 1 sec) is: 1.6432966098989255e-10\n",
      "Effective runtime is: 0:00:00.893397 , N considered is N = 4000000\n",
      "\n",
      "\n",
      "Difference between true and exstimated value for N = 260000000 (running for 1 minute) is: 2.125758902238317e-09\n",
      "Effective runtime is: 0:00:59.879654\n",
      "Gain in 1 minute running is of 6 orders of magnitude\n"
     ]
    }
   ],
   "source": [
    "# exercise 7\n",
    "#A \n",
    "import datetime\n",
    "import math as m\n",
    "\n",
    "N, x, I=100, -1, 0\n",
    "y = lambda x: m.sqrt(1-x**2)\n",
    "def integral(x,N,I):\n",
    "    for i in range(N):\n",
    "        I+= 2/N*y(x)\n",
    "        x+= 2/N\n",
    "    return I\n",
    "print('Difference between true and exstimated value (N = 100) is:', abs(integral(x,N,I)-m.pi/2))\n",
    "\n",
    "#B\n",
    "print('\\n')\n",
    "begin_time = datetime.datetime.now()\n",
    "N=4*10**6\n",
    "print('Difference between true and exstimated value (running for less than 1 sec) is:', abs(integral(x,N,I)-m.pi/2))\n",
    "print('Effective runtime is:',datetime.datetime.now() - begin_time, ', N considered is N =', N) #hour:minute:second.microsecond\n",
    "\n",
    "print('\\n')\n",
    "begin_time1 = datetime.datetime.now()\n",
    "N=26*10**7\n",
    "print('Difference between true and exstimated value for N =', N, '(running for 1 minute) is:', abs(integral(x,N,I)-m.pi/2))\n",
    "print('Effective runtime is:',datetime.datetime.now() - begin_time1)\n",
    "print('Gain in 1 minute running is of 6 orders of magnitude')"
   ]
  }
 ],
 "metadata": {
  "kernelspec": {
   "display_name": "Python 3 (ipykernel)",
   "language": "python",
   "name": "python3"
  },
  "language_info": {
   "codemirror_mode": {
    "name": "ipython",
    "version": 3
   },
   "file_extension": ".py",
   "mimetype": "text/x-python",
   "name": "python",
   "nbconvert_exporter": "python",
   "pygments_lexer": "ipython3",
   "version": "3.8.10"
  }
 },
 "nbformat": 4,
 "nbformat_minor": 2
}
