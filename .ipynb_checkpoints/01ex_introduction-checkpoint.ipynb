{
 "cells": [
  {
   "cell_type": "markdown",
   "metadata": {},
   "source": [
    "1. The HelloWorld replacement\n",
    "\n",
    "a) Write a program that prints the numbers from 1 to 100. But for multiples of three print \"Hello\" instead of the number and for the multiples of five print \"World\". For numbers which are multiples of both three and five print \"HelloWorld\".\n",
    "\n",
    "b) Put the result in a tuple and substitute \"Hello\" with \"Python\" and \"World\" with \"Works\"."
   ]
  },
  {
   "cell_type": "code",
   "execution_count": 1,
   "metadata": {},
   "outputs": [
    {
     "name": "stdout",
     "output_type": "stream",
     "text": [
      "1\n",
      "2\n",
      "Hello\n",
      "4\n",
      "World\n",
      "Hello\n",
      "7\n",
      "8\n",
      "Hello\n",
      "World\n",
      "11\n",
      "Hello\n",
      "13\n",
      "14\n",
      "HelloWorld\n",
      "16\n",
      "17\n",
      "Hello\n",
      "19\n",
      "World\n",
      "Hello\n",
      "22\n",
      "23\n",
      "Hello\n",
      "World\n",
      "26\n",
      "Hello\n",
      "28\n",
      "29\n",
      "HelloWorld\n",
      "31\n",
      "32\n",
      "Hello\n",
      "34\n",
      "World\n",
      "Hello\n",
      "37\n",
      "38\n",
      "Hello\n",
      "World\n",
      "41\n",
      "Hello\n",
      "43\n",
      "44\n",
      "HelloWorld\n",
      "46\n",
      "47\n",
      "Hello\n",
      "49\n",
      "World\n",
      "Hello\n",
      "52\n",
      "53\n",
      "Hello\n",
      "World\n",
      "56\n",
      "Hello\n",
      "58\n",
      "59\n",
      "HelloWorld\n",
      "61\n",
      "62\n",
      "Hello\n",
      "64\n",
      "World\n",
      "Hello\n",
      "67\n",
      "68\n",
      "Hello\n",
      "World\n",
      "71\n",
      "Hello\n",
      "73\n",
      "74\n",
      "HelloWorld\n",
      "76\n",
      "77\n",
      "Hello\n",
      "79\n",
      "World\n",
      "Hello\n",
      "82\n",
      "83\n",
      "Hello\n",
      "World\n",
      "86\n",
      "Hello\n",
      "88\n",
      "89\n",
      "HelloWorld\n",
      "91\n",
      "92\n",
      "Hello\n",
      "94\n",
      "World\n",
      "Hello\n",
      "97\n",
      "98\n",
      "Hello\n",
      "World\n",
      "(1, 2, 'Python', 4, 'Works', 'Python', 7, 8, 'Python', 'Works', 11, 'Python', 13, 14, 'HelloWorld', 16, 17, 'Python', 19, 'Works', 'Python', 22, 23, 'Python', 'Works', 26, 'Python', 28, 29, 'HelloWorld', 31, 32, 'Python', 34, 'Works', 'Python', 37, 38, 'Python', 'Works', 41, 'Python', 43, 44, 'HelloWorld', 46, 47, 'Python', 49, 'Works', 'Python', 52, 53, 'Python', 'Works', 56, 'Python', 58, 59, 'HelloWorld', 61, 62, 'Python', 64, 'Works', 'Python', 67, 68, 'Python', 'Works', 71, 'Python', 73, 74, 'HelloWorld', 76, 77, 'Python', 79, 'Works', 'Python', 82, 83, 'Python', 'Works', 86, 'Python', 88, 89, 'HelloWorld', 91, 92, 'Python', 94, 'Works', 'Python', 97, 98, 'Python', 'Works')\n"
     ]
    }
   ],
   "source": [
    "#exercise n.1\n",
    "#part A and B\n",
    "\n",
    "my_list= []\n",
    "\n",
    "for i in range(1,101): \n",
    "    if  i % 15 == 0:\n",
    "        print(\"HelloWorld\")\n",
    "        my_list.append(\"HelloWorld\")\n",
    "        \n",
    "    elif i % 5 == 0: \n",
    "        print(\"World\")\n",
    "        my_list.append(\"World\")\n",
    "    \n",
    "    elif i % 3 == 0:\n",
    "        print(\"Hello\")\n",
    "        my_list.append(\"Hello\") \n",
    "    \n",
    "    else:     \n",
    "        print (i)\n",
    "        my_list.append(i)      \n",
    " \n",
    "for i in range(0,100): \n",
    "    if (i+1) % 15 == 0:\n",
    "        my_list[i] = my_list[i]\n",
    "    elif (i+1) % 5 == 0:\n",
    "        my_list[i] = \"Works\"\n",
    "    elif (i+1) % 3 == 0:\n",
    "        my_list[i] = \"Python\" \n",
    "     \n",
    "my_tuple = tuple(my_list)\n",
    "\n",
    "print(my_tuple)  \n"
   ]
  },
  {
   "cell_type": "markdown",
   "metadata": {},
   "source": [
    "2\\. The swap function\n",
    "\n",
    "Write a function that swap the values of two input variables x and y (whatever the type). Try to do that also without a temporary variable"
   ]
  },
  {
   "cell_type": "code",
   "execution_count": 5,
   "metadata": {},
   "outputs": [
    {
     "name": "stdout",
     "output_type": "stream",
     "text": [
      "[First Method]\n",
      "Values entered are: x=1, y=2\n",
      "Swapped values: x=2, y=1\n",
      "[Second Method]\n",
      "Values entered are: x=1, y=2\n",
      "Swapped values: x=2, y=1\n"
     ]
    }
   ],
   "source": [
    "#exercise n.2\n",
    "#swap function \n",
    "x,y = 1,2\n",
    "def swap(x,y=0):\n",
    "    a=x\n",
    "    x=y\n",
    "    y=a   \n",
    "    print('Swapped values: x='+ str(x)+ ', y='+ str(y))\n",
    "    \n",
    "print('[First Method]')\n",
    "print('Values entered are: x='+ str(x)+ ', y='+ str(y))\n",
    "swap(x,y) \n",
    "\n",
    "#swap function without temporary variables\n",
    "z,w=1,2\n",
    "def swap1(z,w=0):\n",
    "    z= z+w\n",
    "    w= z-w\n",
    "    z= z-w\n",
    "    print('Swapped values: x='+ str(z)+ ', y='+ str(w))\n",
    "\n",
    "print('[Second Method]')\n",
    "print('Values entered are: x='+ str(z)+ ', y='+ str(w))\n",
    "swap1(z,w)  "
   ]
  },
  {
   "cell_type": "markdown",
   "metadata": {},
   "source": [
    "3\\. Computing the distance\n",
    "\n",
    "Write a function that calculates and returns the euclidean distance between two points *u* and *v*, where *u* and *v* are both 2-tuples *(x,y)*. For example, if *u=(3,0)* and *v=(0,4)*, the function should return 5"
   ]
  },
  {
   "cell_type": "code",
   "execution_count": 6,
   "metadata": {},
   "outputs": [
    {
     "name": "stdout",
     "output_type": "stream",
     "text": [
      "2d points entered are: u = (3, 0) , v =  (0, 4)\n",
      "Euclidean distance between points u and v is:  5.0\n"
     ]
    }
   ],
   "source": [
    "#exercise n.3\n",
    "import math as m\n",
    "\n",
    "x1, y1= 3,0\n",
    "x2, y2 = 0,4\n",
    "u, v = (x1,y1), (x2,y2)\n",
    "\n",
    "print ('2d points entered are: u =', u, ', v = ', v)\n",
    "\n",
    "def eucl_dist(x1, y1, x2, y2=0):\n",
    "    distance= m.sqrt(((x1-y1)**2 + (x2-y2)**2)) \n",
    "    return distance\n",
    "        \n",
    "print('Euclidean distance between points u and v is: ', eucl_dist(x1, y1, x2, y2))     "
   ]
  },
  {
   "cell_type": "markdown",
   "metadata": {},
   "source": [
    "4\\. Counting letters\n",
    "\n",
    "Write a program to calculate the number of times each character occurs in a given string *s*. Ignore differences in capitalization"
   ]
  },
  {
   "cell_type": "code",
   "execution_count": 15,
   "metadata": {},
   "outputs": [
    {
     "name": "stdout",
     "output_type": "stream",
     "text": [
      "0  appears  2 times in the sentence\n",
      "1  appears  2 times in the sentence\n",
      "2  appears  0 times in the sentence\n",
      "3  appears  0 times in the sentence\n",
      "4  appears  0 times in the sentence\n",
      "5  appears  0 times in the sentence\n",
      "6  appears  0 times in the sentence\n",
      "7  appears  0 times in the sentence\n",
      "8  appears  0 times in the sentence\n",
      "9  appears  0 times in the sentence\n",
      "\n",
      "\n",
      "a  appears  7 times in the sentence\n",
      "b  appears  5 times in the sentence\n",
      "c  appears  1 times in the sentence\n",
      "d  appears  5 times in the sentence\n",
      "e  appears  20 times in the sentence\n",
      "f  appears  10 times in the sentence\n",
      "g  appears  1 times in the sentence\n",
      "h  appears  11 times in the sentence\n",
      "i  appears  12 times in the sentence\n",
      "j  appears  0 times in the sentence\n",
      "k  appears  0 times in the sentence\n",
      "l  appears  12 times in the sentence\n",
      "m  appears  8 times in the sentence\n",
      "n  appears  10 times in the sentence\n",
      "o  appears  15 times in the sentence\n",
      "p  appears  8 times in the sentence\n",
      "q  appears  0 times in the sentence\n",
      "r  appears  19 times in the sentence\n",
      "s  appears  7 times in the sentence\n",
      "t  appears  19 times in the sentence\n",
      "u  appears  7 times in the sentence\n",
      "v  appears  2 times in the sentence\n",
      "w  appears  4 times in the sentence\n",
      "x  appears  0 times in the sentence\n",
      "y  appears  0 times in the sentence\n",
      "z  appears  0 times in the sentence\n",
      "\n",
      "\n",
      ".  appears  3 times in the sentence\n",
      ",  appears  0 times in the sentence\n",
      "?  appears  0 times in the sentence\n",
      "!  appears  0 times in the sentence\n",
      ";  appears  0 times in the sentence\n",
      ":  appears  0 times in the sentence\n"
     ]
    }
   ],
   "source": [
    "#exercise n.4\n",
    "\n",
    "s = \"Write a program that prints the numbers from 1 to 100. \\\n",
    "But for multiples of three print Hello instead of the number and for the multiples of five print World. \\\n",
    "For numbers which are multiples of both three and five print HelloWorld.\"\n",
    "\n",
    "digits=[\"0\",\"1\",\"2\",\"3\",\"4\",\"5\",\"6\",\"7\",\"8\",\"9\"]\n",
    "letters=[\"a\",\"b\",\"c\",\"d\",\"e\",\"f\",\"g\",\"h\",\"i\",\"j\",\"k\",\"l\",\"m\",\"n\",\"o\",\"p\",\"q\",\"r\",\"s\",\"t\",\"u\",\"v\",\"w\",\"x\",\"y\",\"z\"]\n",
    "punctuation=[\".\", \",\", \"?\", \"!\", \";\", \":\"] \n",
    "\n",
    "for i in digits:\n",
    "    x = s.count(i) \n",
    "    print(i, ' appears ', x, 'times in the sentence')\n",
    "print(\"\\n\")    \n",
    "for i in letters:\n",
    "    x = s.lower().count(i) \n",
    "    print(i, ' appears ', x, 'times in the sentence')\n",
    "print(\"\\n\")   \n",
    "for i in punctuation:\n",
    "    x = s.count(i) \n",
    "    print(i, ' appears ', x, 'times in the sentence')   "
   ]
  },
  {
   "cell_type": "markdown",
   "metadata": {},
   "source": [
    "5\\. Isolating the unique\n",
    "\n",
    "Write a function that determines and count the unique numbers in the list:"
   ]
  },
  {
   "cell_type": "code",
   "execution_count": 7,
   "metadata": {},
   "outputs": [
    {
     "name": "stdout",
     "output_type": "stream",
     "text": [
      "[1, 3, 5, 8, 9, 10, 16, 18, 19, 20, 24, 30, 31, 33, 34, 36, 37, 39, 41, 42, 45, 47, 50, 51, 53, 54, 55, 56, 57, 58, 63, 64, 66, 70, 72, 74, 75, 79, 81, 82, 84, 85, 86, 87, 88, 89, 90, 91, 92, 94, 95, 96, 98, 99]\n",
      "The total count of unique numbers is:  54\n"
     ]
    }
   ],
   "source": [
    "#exercise n.5\n",
    "\n",
    "l = [36, 45, 58, 3, 74, 96, 64, 45, 31, 10, 24, 19, 33, 86, 99, 18, 63, 70, 85,\n",
    " 85, 63, 47, 56, 42, 70, 84, 88, 55, 20, 54, 8, 56, 51, 79, 81, 57, 37, 91,\n",
    " 1, 84, 84, 36, 66, 9, 89, 50, 42, 91, 50, 95, 90, 98, 39, 16, 82, 31, 92, 41,\n",
    " 45, 30, 66, 70, 34, 85, 94, 5, 3, 36, 72, 91, 84, 34, 87, 75, 53, 51, 20, 89, 51, 20]\n",
    "\n",
    "unique_l=[]\n",
    "y=0\n",
    "\n",
    "def counting_uniques(l):\n",
    "    global y\n",
    "    for i in l:\n",
    "        if i not in unique_l:\n",
    "            unique_l.append(i)\n",
    "            y+=1\n",
    "\n",
    "counting_uniques(l)\n",
    "unique_l.sort()\n",
    "\n",
    "print(unique_l)\n",
    "print('The total count of unique numbers is: ' , y)   "
   ]
  },
  {
   "cell_type": "markdown",
   "metadata": {},
   "source": [
    "Do the same without using user-defined functions, but exploiting only the Python data structures."
   ]
  },
  {
   "cell_type": "code",
   "execution_count": 3,
   "metadata": {},
   "outputs": [
    {
     "name": "stdout",
     "output_type": "stream",
     "text": [
      "{1, 3, 5, 8, 9, 10, 16, 18, 19, 20, 24, 30, 31, 33, 34, 36, 37, 39, 41, 42, 45, 47, 50, 51, 53, 54, 55, 56, 57, 58, 63, 64, 66, 70, 72, 74, 75, 79, 81, 82, 84, 85, 86, 87, 88, 89, 90, 91, 92, 94, 95, 96, 98, 99}\n",
      "The total count of unique numbers is:  54\n"
     ]
    }
   ],
   "source": [
    "#same exercise but using only the Python data structures.\n",
    "\n",
    "l = [36, 45, 58, 3, 74, 96, 64, 45, 31, 10, 24, 19, 33, 86, 99, 18, 63, 70, 85,\n",
    " 85, 63, 47, 56, 42, 70, 84, 88, 55, 20, 54, 8, 56, 51, 79, 81, 57, 37, 91,\n",
    " 1, 84, 84, 36, 66, 9, 89, 50, 42, 91, 50, 95, 90, 98, 39, 16, 82, 31, 92, 41,\n",
    " 45, 30, 66, 70, 34, 85, 94, 5, 3, 36, 72, 91, 84, 34, 87, 75, 53, 51, 20, 89, 51, 20]\n",
    "\n",
    "unique_l= set(l)\n",
    "   \n",
    "print(unique_l)    \n",
    "print('The total count of unique numbers is: ' , len(unique_l))  "
   ]
  },
  {
   "cell_type": "markdown",
   "metadata": {},
   "source": [
    "6\\. Combination of functions\n",
    "\n",
    "Write two functions - one that returns the square of a number, and one that returns the cube. Now write a third function that returns the number raised to the 6th power using the two previous functions."
   ]
  },
  {
   "cell_type": "code",
   "execution_count": 10,
   "metadata": {},
   "outputs": [
    {
     "name": "stdout",
     "output_type": "stream",
     "text": [
      "x entered is: 2\n",
      "x^2 =  4\n",
      "x^3 =  8\n",
      "x^6 =  64 , obtained using previous results\n"
     ]
    }
   ],
   "source": [
    "#exercise n.6\n",
    "\n",
    "x=2\n",
    "print('x entered is:', x)\n",
    "def square(a = 0):\n",
    "    return a*a\n",
    "\n",
    "print('x^2 = ', square(x))\n",
    "\n",
    "def cube(a = 0):\n",
    "    return a*a*a\n",
    "\n",
    "print('x^3 = ', cube(x))\n",
    "\n",
    "def power_6(x):\n",
    "    return cube(x)*square(x)*x\n",
    "\n",
    "print('x^6 = ', power_6(x) , ', obtained using previous results')"
   ]
  },
  {
   "cell_type": "markdown",
   "metadata": {},
   "source": [
    "7\\. Cubes\n",
    "\n",
    "Create a list of the cubes of x for x in *[0, 10]* using:\n",
    "\n",
    "a) a for loop\n",
    "\n",
    "b) a list comprehension"
   ]
  },
  {
   "cell_type": "code",
   "execution_count": 129,
   "metadata": {},
   "outputs": [
    {
     "name": "stdout",
     "output_type": "stream",
     "text": [
      "[0, 1, 8, 27, 64, 125, 216, 343, 512, 729, 1000]\n",
      "[0, 1, 8, 27, 64, 125, 216, 343, 512, 729, 1000]\n"
     ]
    }
   ],
   "source": [
    "#exercise n.7\n",
    "\n",
    "#creating a list using for loop\n",
    "cubes_list=[]\n",
    "for y in range(0,11):\n",
    "    cubes_list.append(y**3)\n",
    "print(cubes_list)\n",
    "    \n",
    "#creating a list using list comprehension    \n",
    "cubes_list1=[y**3 for y in range (11)]\n",
    "print(cubes_list1)"
   ]
  },
  {
   "cell_type": "markdown",
   "metadata": {},
   "source": [
    "8\\. Nested list comprehension\n",
    "\n",
    "A Pythagorean triple is an integer solution to the Pythagorean theorem $a^2+b^2=c^2$. The first Pythagorean triple is (3,4,5). Find and put in a tuple all unique Pythagorean triples for the positive integers a, b and c less than 100."
   ]
  },
  {
   "cell_type": "code",
   "execution_count": 66,
   "metadata": {},
   "outputs": [
    {
     "name": "stdout",
     "output_type": "stream",
     "text": [
      "((3, 4, 5), (5, 12, 13), (6, 8, 10), (7, 24, 25), (8, 15, 17), (9, 12, 15), (9, 40, 41), (10, 24, 26), (11, 60, 61), (12, 16, 20), (12, 35, 37), (13, 84, 85), (14, 48, 50), (15, 20, 25), (15, 36, 39), (16, 30, 34), (16, 63, 65), (18, 24, 30), (18, 80, 82), (20, 21, 29), (20, 48, 52), (21, 28, 35), (21, 72, 75), (24, 32, 40), (24, 45, 51), (24, 70, 74), (25, 60, 65), (27, 36, 45), (28, 45, 53), (30, 40, 50), (30, 72, 78), (32, 60, 68), (33, 44, 55), (33, 56, 65), (35, 84, 91), (36, 48, 60), (36, 77, 85), (39, 52, 65), (39, 80, 89), (40, 42, 58), (40, 75, 85), (42, 56, 70), (45, 60, 75), (48, 55, 73), (48, 64, 80), (51, 68, 85), (54, 72, 90), (57, 76, 95), (60, 63, 87), (65, 72, 97))\n"
     ]
    }
   ],
   "source": [
    "#exercise n.8\n",
    "\n",
    "list_py = [(a,b,c) for a in range (1,100) for b in range (1,100) for c in range (1,100) if a**2+b**2==c**2 and a<b]\n",
    "p_triples = tuple(list_py)\n",
    "#considered also not primitive Pythagorean triples\n",
    "\n",
    "print(p_triples)"
   ]
  },
  {
   "cell_type": "markdown",
   "metadata": {},
   "source": [
    "9\\. Normalization\n",
    "\n",
    "Write a function that takes a tuple of numbers and returns it with the entries normalized to one"
   ]
  },
  {
   "cell_type": "code",
   "execution_count": 9,
   "metadata": {},
   "outputs": [
    {
     "name": "stdout",
     "output_type": "stream",
     "text": [
      "The normalized vector is:  (0.7071067811865475, 0.7071067811865475, 0.0)\n"
     ]
    }
   ],
   "source": [
    "#exercise n.9\n",
    "import math as m\n",
    "\n",
    "t=(1,1,0)\n",
    "\n",
    "def normalization(t):\n",
    "    global vector_normalized\n",
    "    squares=[i**2 for i in t]\n",
    "    squares_sum=sum(squares) \n",
    "    vector_normalized = tuple([i/m.sqrt(squares_sum) for i in t]) \n",
    "    return vector_normalized\n",
    "\n",
    "print('The normalized vector is: ', normalization(t))"
   ]
  }
 ],
 "metadata": {
  "kernelspec": {
   "display_name": "Python 3 (ipykernel)",
   "language": "python",
   "name": "python3"
  },
  "language_info": {
   "codemirror_mode": {
    "name": "ipython",
    "version": 3
   },
   "file_extension": ".py",
   "mimetype": "text/x-python",
   "name": "python",
   "nbconvert_exporter": "python",
   "pygments_lexer": "ipython3",
   "version": "3.8.10"
  }
 },
 "nbformat": 4,
 "nbformat_minor": 2
}
