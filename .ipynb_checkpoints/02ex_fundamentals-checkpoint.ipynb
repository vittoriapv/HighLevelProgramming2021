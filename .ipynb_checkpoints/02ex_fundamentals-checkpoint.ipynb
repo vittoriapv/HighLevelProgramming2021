{
 "cells": [
  {
   "cell_type": "markdown",
   "metadata": {},
   "source": [
    "1. Write the following expressions using the list comprehension"
   ]
  },
  {
   "cell_type": "code",
   "execution_count": 1,
   "metadata": {},
   "outputs": [
    {
     "name": "stdout",
     "output_type": "stream",
     "text": [
      "[(0, 0), (0, 1), (0, 2), (0, 3), (1, 0), (1, 1), (1, 2), (1, 3), (2, 0), (2, 1), (2, 2), (2, 3)]\n",
      "[1, 9, 25, 49, 81]\n"
     ]
    }
   ],
   "source": [
    "#1\n",
    "ans = []\n",
    "for i in range(3):\n",
    "    for j in range(4):\n",
    "        ans.append((i, j))\n",
    "print(ans)\n",
    "\n",
    "#2\n",
    "ans = map(lambda x: x * x, filter(lambda x: x % 2 == 1, range(10)))\n",
    "print(list(ans))"
   ]
  },
  {
   "cell_type": "code",
   "execution_count": 5,
   "metadata": {},
   "outputs": [
    {
     "name": "stdout",
     "output_type": "stream",
     "text": [
      "[(0, 0), (0, 1), (0, 2), (0, 3), (1, 0), (1, 1), (1, 2), (1, 3), (2, 0), (2, 1), (2, 2), (2, 3)]\n",
      "[1, 9, 25, 49, 81]\n"
     ]
    }
   ],
   "source": [
    "#using the list comprehension\n",
    "#1\n",
    "ans=[(a,b) for a in range(3) for b in range(4)]\n",
    "print(ans)\n",
    "\n",
    "#2\n",
    "ans= [x**2 for x in range(10) if x % 2 == 1]\n",
    "print(ans)"
   ]
  },
  {
   "cell_type": "markdown",
   "metadata": {},
   "source": [
    "2\\. Convert the function $f$ into a function that doesn't use global variables and that does not modify the original list"
   ]
  },
  {
   "cell_type": "code",
   "execution_count": 6,
   "metadata": {},
   "outputs": [
    {
     "name": "stdout",
     "output_type": "stream",
     "text": [
      "[1, 2, 3, 0, 1, 2, 3, 4]\n",
      "[1, 2, 3, 0, 1, 2, 3, 4]\n"
     ]
    }
   ],
   "source": [
    "x = 5\n",
    "def f(alist):\n",
    "    for i in range(x):\n",
    "         alist.append(i)\n",
    "    return alist\n",
    "\n",
    "alist = [1,2,3]\n",
    "ans = f(alist)\n",
    "print(ans)\n",
    "print(alist) # alist has been changed!"
   ]
  },
  {
   "cell_type": "code",
   "execution_count": 2,
   "metadata": {},
   "outputs": [
    {
     "name": "stdout",
     "output_type": "stream",
     "text": [
      "[1, 2, 3, 0, 1, 2, 3, 4]\n",
      "[1, 2, 3]\n"
     ]
    }
   ],
   "source": [
    "#exercise 2\n",
    "x = 5\n",
    "def f(x,y):\n",
    "    y= alist + [i for i in range(x)]\n",
    "    return y\n",
    "\n",
    "alist = [1,2,3]\n",
    "ans = f(x,alist)\n",
    "print(ans)\n",
    "print(alist) "
   ]
  },
  {
   "cell_type": "markdown",
   "metadata": {},
   "source": [
    "3\\. Write a `decorator` hello that makes every wrapped function print “Hello!”, i.e. something like:\n",
    "\n",
    "```python\n",
    "@hello\n",
    "def square(x):\n",
    "    return x*x\n",
    "```\n",
    "\n"
   ]
  },
  {
   "cell_type": "code",
   "execution_count": 3,
   "metadata": {},
   "outputs": [
    {
     "name": "stdout",
     "output_type": "stream",
     "text": [
      "Hello!\n",
      "16\n",
      "Hello!\n"
     ]
    }
   ],
   "source": [
    "#exercise 3\n",
    "\n",
    "def hello(func):\n",
    "    def wrapper(*x):\n",
    "        print(\"Hello!\")\n",
    "        func(*x)\n",
    "        print(\"Hello!\")\n",
    "    return wrapper\n",
    "\n",
    "@hello\n",
    "def square(a):\n",
    "    print(a*a)\n",
    "    return a*a\n",
    "\n",
    "square(4)"
   ]
  },
  {
   "cell_type": "markdown",
   "metadata": {},
   "source": [
    "4\\. Write the factorial function in two different ways, so that it a) does and b) does not use recursion."
   ]
  },
  {
   "cell_type": "code",
   "execution_count": 10,
   "metadata": {},
   "outputs": [
    {
     "name": "stdout",
     "output_type": "stream",
     "text": [
      "8 ! = 40320\n"
     ]
    }
   ],
   "source": [
    "#exercise 4\n",
    "#A\n",
    "\n",
    "def fac1(n):\n",
    "    tot = 1\n",
    "    if x==0:\n",
    "        return tot\n",
    "    elif x<0:\n",
    "        return None \n",
    "    else:\n",
    "        for i in range(1,n+1):\n",
    "            tot *= i\n",
    "        return tot\n",
    "\n",
    "x = 8 \n",
    "print(x,'! =',fac1(x))"
   ]
  },
  {
   "cell_type": "code",
   "execution_count": 11,
   "metadata": {},
   "outputs": [
    {
     "name": "stdout",
     "output_type": "stream",
     "text": [
      "8 ! = 40320\n"
     ]
    }
   ],
   "source": [
    "#exercise 4\n",
    "#B\n",
    "\n",
    "def fac2(n):\n",
    "    a,b=1,1\n",
    "    for i in range(1, n+1):\n",
    "        a, b = a+1, b*a\n",
    "    return b\n",
    "\n",
    "\n",
    "x = 8\n",
    "print(x,'! =',fac2(x))"
   ]
  },
  {
   "cell_type": "markdown",
   "metadata": {},
   "source": [
    "5\\. Use HOFs (zip in particular) to compute the weight of a circle, a disk and a sphere, assuming different radii and different densities:\n",
    "\n",
    "```python\n",
    "densities = {\"Al\" : [0.5, 1, 2], \"Fe\" : [3, 4, 5], \"Pb\" : [15, 20, 30]}\n",
    "radii = [1, 2, 3]\n",
    "```\n",
    "\n",
    "where the entries of the dictionary's values are the linear, superficial and volumetric densities of the materials respectively.\n",
    "\n",
    "Subsequently, define a list using a comprehension with three lambda functions that compute the circumference, the area and the volume for a given radius.\n"
   ]
  },
  {
   "cell_type": "code",
   "execution_count": 29,
   "metadata": {},
   "outputs": [
    {
     "name": "stdout",
     "output_type": "stream",
     "text": [
      "\u001b[1m Element:Al\u001b[0m\n",
      "Radius: \u001b[1m R=1\u001b[0m\n",
      "Circle weights 3.141592653589793\n",
      "Disk weights 3.141592653589793\n",
      "Sphere weights 8.377580409572781\n",
      "Radius: \u001b[1m R=2\u001b[0m\n",
      "Circle weights 6.283185307179586\n",
      "Disk weights 12.566370614359172\n",
      "Sphere weights 67.02064327658225\n",
      "Radius: \u001b[1m R=3\u001b[0m\n",
      "Circle weights 9.42477796076938\n",
      "Disk weights 28.274333882308138\n",
      "Sphere weights 226.1946710584651\n",
      "\n",
      "\n",
      "\u001b[1m Element:Fe\u001b[0m\n",
      "Radius: \u001b[1m R=1\u001b[0m\n",
      "Circle weights 18.84955592153876\n",
      "Disk weights 12.566370614359172\n",
      "Sphere weights 20.943951023931955\n",
      "Radius: \u001b[1m R=2\u001b[0m\n",
      "Circle weights 37.69911184307752\n",
      "Disk weights 50.26548245743669\n",
      "Sphere weights 167.55160819145564\n",
      "Radius: \u001b[1m R=3\u001b[0m\n",
      "Circle weights 56.548667764616276\n",
      "Disk weights 113.09733552923255\n",
      "Sphere weights 565.4866776461628\n",
      "\n",
      "\n",
      "\u001b[1m Element:Pb\u001b[0m\n",
      "Radius: \u001b[1m R=1\u001b[0m\n",
      "Circle weights 94.24777960769379\n",
      "Disk weights 62.83185307179586\n",
      "Sphere weights 125.66370614359171\n",
      "Radius: \u001b[1m R=2\u001b[0m\n",
      "Circle weights 188.49555921538757\n",
      "Disk weights 251.32741228718345\n",
      "Sphere weights 1005.3096491487337\n",
      "Radius: \u001b[1m R=3\u001b[0m\n",
      "Circle weights 282.7433388230814\n",
      "Disk weights 565.4866776461628\n",
      "Sphere weights 3392.9200658769764\n",
      "\n",
      "\n"
     ]
    }
   ],
   "source": [
    "#exercise 5\n",
    "\n",
    "from math import pi\n",
    "\n",
    "densities = {\"Al\" : [0.5, 1, 2], \"Fe\" : [3, 4, 5], \"Pb\" : [15, 20, 30]}\n",
    "radii = [1, 2, 3]\n",
    "\n",
    "functions=[lambda x,y : 2*pi*x*y, lambda x,y : pi*y*x**2, lambda x,y : 4*pi*y*x**3/3]\n",
    "shapes=['Circle', 'Disk', 'Sphere']\n",
    "\n",
    "for element in densities: \n",
    "    print('\\033[1m Element:' + str(element) +'\\033[0m')\n",
    "    for r in radii:\n",
    "        print('Radius: \\033[1m R=' + str(r) +'\\033[0m')\n",
    "        for f,density,shape in zip(functions, densities[element],shapes):\n",
    "            print(shape, 'weights', f(r, density)) \n",
    "    print('\\n')"
   ]
  },
  {
   "cell_type": "markdown",
   "metadata": {},
   "source": [
    "6\\. Edit the class defintion to add an instance attribute of `is_hungry = True` to the Dog class. Then add a method called `eat()` which changes the value of `is_hungry` to `False` when called. Figure out the best way to instantiate the dog objects and to feed the dogs, e.g. call the `eat()` method for all instances. Finally, print “My dogs are hungry.” or “My dogs are not hungry.” if all of them have `is_hungry = True` or `False`, respectively. The final output should look like this:\n",
    "\n",
    "`I have 3 dogs. \n",
    "Tom is 6. \n",
    "Fletcher is 7. \n",
    "Larry is 9. \n",
    "And they're all mammals, of course. \n",
    "My dogs are not hungry.\n",
    "`\n",
    "\n",
    "```python\n",
    "# Parent class\n",
    "class Dog:\n",
    "\n",
    "    # Class attribute\n",
    "    species = 'mammal'\n",
    "\n",
    "    # Initializer / Instance attributes\n",
    "    def __init__(self, name, age):\n",
    "        self.name = name\n",
    "        self.age = age\n",
    "\n",
    "    # instance method\n",
    "    def description(self):\n",
    "        return \"{} is {} years old\".format(self.name, self.age)\n",
    "\n",
    "    # instance method\n",
    "    def speak(self, sound):\n",
    "        return \"{} says {}\".format(self.name, sound)\n",
    "\n",
    "# Child class (inherits from Dog class)\n",
    "class RussellTerrier(Dog):\n",
    "    def run(self, speed):\n",
    "        return \"{} runs {}\".format(self.name, speed)\n",
    "\n",
    "# Child class (inherits from Dog class)\n",
    "class Bulldog(Dog):\n",
    "    def run(self, speed):\n",
    "        return \"{} runs {}\".format(self.name, speed)\n",
    "```"
   ]
  },
  {
   "cell_type": "code",
   "execution_count": 31,
   "metadata": {},
   "outputs": [
    {
     "name": "stdout",
     "output_type": "stream",
     "text": [
      "I have 3 dogs.\n",
      "Tom is 6 years old.\n",
      "Fletcher is 7 years old.\n",
      "Larry is 9 years old.\n",
      "They're all mammals of course.\n",
      "My dogs are not hungry.\n"
     ]
    }
   ],
   "source": [
    "#exercise 6\n",
    "\n",
    "# Parent class\n",
    "class Dog:\n",
    "\n",
    "    # Class attribute\n",
    "    species = 'mammal'\n",
    "\n",
    "    # Initializer / Instance attributes\n",
    "    def __init__(self, name, age, is_hungry):\n",
    "        self.name = name\n",
    "        self.age = age\n",
    "        self.is_hungry = is_hungry\n",
    "        \n",
    "    # instance method\n",
    "    def description(self):\n",
    "        return \"{} is {} years old.\".format(self.name, self.age)\n",
    "\n",
    "    # instance method\n",
    "    def speak(self, sound):\n",
    "        return \"{} says {}.\".format(self.name, sound)\n",
    "    \n",
    "    # instance method\n",
    "    def eat(self, is_hungry):\n",
    "        is_hungry=False\n",
    "        return \n",
    "\n",
    "# Child class (inherits from Dog class)\n",
    "class RussellTerrier(Dog):\n",
    "    def run(self, speed):\n",
    "        return \"{} runs {}.\".format(self.name, speed)\n",
    "\n",
    "# Child class (inherits from Dog class)\n",
    "class Bulldog(Dog):\n",
    "    def run(self, speed):\n",
    "        return \"{} runs {}.\".format(self.name, speed)\n",
    "\n",
    "    \n",
    "    \n",
    "dog1 = Dog(\"Tom\", 6, True)\n",
    "dog2 = Dog(\"Fletcher\", 7, False)\n",
    "dog3 = Dog(\"Larry\", 9, True)\n",
    "dogs=[dog1,dog2,dog3]\n",
    "\n",
    "def feeding(dogs):\n",
    "    for i in dogs:\n",
    "        if i.is_hungry==True:\n",
    "            i.is_hungry=False\n",
    "    return 'My dogs are not hungry.'\n",
    "    \n",
    "print('I have', len(dogs), 'dogs.')\n",
    "for i in dogs:\n",
    "    print(i.description())\n",
    "print(\"They're all \"+ str(dog1.species) +\"s of course.\")\n",
    "print(feeding(dogs))\n",
    "\n",
    "#feeding(dogs)\n",
    "#print(dog1.is_hungry) #After applying the function I'll get False"
   ]
  }
 ],
 "metadata": {
  "kernelspec": {
   "display_name": "Python 3 (ipykernel)",
   "language": "python",
   "name": "python3"
  },
  "language_info": {
   "codemirror_mode": {
    "name": "ipython",
    "version": 3
   },
   "file_extension": ".py",
   "mimetype": "text/x-python",
   "name": "python",
   "nbconvert_exporter": "python",
   "pygments_lexer": "ipython3",
   "version": "3.8.10"
  }
 },
 "nbformat": 4,
 "nbformat_minor": 2
}
